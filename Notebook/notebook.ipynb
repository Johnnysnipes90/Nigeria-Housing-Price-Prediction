{
 "cells": [
  {
   "cell_type": "markdown",
   "metadata": {},
   "source": [
    "# Import Libraries"
   ]
  },
  {
   "cell_type": "code",
   "execution_count": 213,
   "metadata": {},
   "outputs": [],
   "source": [
    "\n",
    "# Standard Libraries\n",
    "import pandas as pd\n",
    "import numpy as np\n",
    "\n",
    "# Visualization Libraries\n",
    "import matplotlib.pyplot as plt\n",
    "import seaborn as sns\n",
    "\n",
    "import os\n",
    "import json\n",
    "import joblib\n",
    "\n",
    "from sklearn.preprocessing import LabelEncoder\n",
    "from sklearn.preprocessing import StandardScaler\n",
    "from sklearn.linear_model import LinearRegression, Ridge\n",
    "from sklearn.preprocessing import PolynomialFeatures, StandardScaler\n",
    "from sklearn.ensemble import RandomForestRegressor, GradientBoostingRegressor\n",
    "from sklearn.model_selection import train_test_split, GridSearchCV, RandomizedSearchCV\n",
    "from sklearn.metrics import mean_absolute_error, mean_squared_error, r2_score"
   ]
  },
  {
   "cell_type": "markdown",
   "metadata": {},
   "source": [
    "# Data Loading and Initial Exploration"
   ]
  },
  {
   "cell_type": "code",
   "execution_count": 214,
   "metadata": {},
   "outputs": [],
   "source": [
    "os.chdir(\"C:/Users/USER/Desktop/GitHub/Nigeria-Housing-Price-Prediction\")"
   ]
  },
  {
   "cell_type": "code",
   "execution_count": 215,
   "metadata": {},
   "outputs": [],
   "source": [
    "# Load datasets\n",
    "DATA_PATH_NIGERIA = os.getenv(\"DATA_PATH\", default=\"dataset/nigeria_houses_data.csv\")\n",
    "nigeria_df = pd.read_csv(DATA_PATH_NIGERIA)"
   ]
  },
  {
   "cell_type": "code",
   "execution_count": 216,
   "metadata": {},
   "outputs": [
    {
     "name": "stdout",
     "output_type": "stream",
     "text": [
      "<class 'pandas.core.frame.DataFrame'>\n",
      "RangeIndex: 24326 entries, 0 to 24325\n",
      "Data columns (total 8 columns):\n",
      " #   Column         Non-Null Count  Dtype  \n",
      "---  ------         --------------  -----  \n",
      " 0   bedrooms       24326 non-null  float64\n",
      " 1   bathrooms      24326 non-null  float64\n",
      " 2   toilets        24326 non-null  float64\n",
      " 3   parking_space  24326 non-null  float64\n",
      " 4   title          24326 non-null  object \n",
      " 5   town           24326 non-null  object \n",
      " 6   state          24326 non-null  object \n",
      " 7   price          24326 non-null  float64\n",
      "dtypes: float64(5), object(3)\n",
      "memory usage: 1.5+ MB\n"
     ]
    },
    {
     "data": {
      "text/html": [
       "<div>\n",
       "<style scoped>\n",
       "    .dataframe tbody tr th:only-of-type {\n",
       "        vertical-align: middle;\n",
       "    }\n",
       "\n",
       "    .dataframe tbody tr th {\n",
       "        vertical-align: top;\n",
       "    }\n",
       "\n",
       "    .dataframe thead th {\n",
       "        text-align: right;\n",
       "    }\n",
       "</style>\n",
       "<table border=\"1\" class=\"dataframe\">\n",
       "  <thead>\n",
       "    <tr style=\"text-align: right;\">\n",
       "      <th></th>\n",
       "      <th>bedrooms</th>\n",
       "      <th>bathrooms</th>\n",
       "      <th>toilets</th>\n",
       "      <th>parking_space</th>\n",
       "      <th>title</th>\n",
       "      <th>town</th>\n",
       "      <th>state</th>\n",
       "      <th>price</th>\n",
       "    </tr>\n",
       "  </thead>\n",
       "  <tbody>\n",
       "    <tr>\n",
       "      <th>0</th>\n",
       "      <td>6.0</td>\n",
       "      <td>5.0</td>\n",
       "      <td>5.0</td>\n",
       "      <td>4.0</td>\n",
       "      <td>Detached Duplex</td>\n",
       "      <td>Mabushi</td>\n",
       "      <td>Abuja</td>\n",
       "      <td>450000000.0</td>\n",
       "    </tr>\n",
       "    <tr>\n",
       "      <th>1</th>\n",
       "      <td>4.0</td>\n",
       "      <td>5.0</td>\n",
       "      <td>5.0</td>\n",
       "      <td>4.0</td>\n",
       "      <td>Terraced Duplexes</td>\n",
       "      <td>Katampe</td>\n",
       "      <td>Abuja</td>\n",
       "      <td>800000000.0</td>\n",
       "    </tr>\n",
       "    <tr>\n",
       "      <th>2</th>\n",
       "      <td>4.0</td>\n",
       "      <td>5.0</td>\n",
       "      <td>5.0</td>\n",
       "      <td>4.0</td>\n",
       "      <td>Detached Duplex</td>\n",
       "      <td>Lekki</td>\n",
       "      <td>Lagos</td>\n",
       "      <td>120000000.0</td>\n",
       "    </tr>\n",
       "    <tr>\n",
       "      <th>3</th>\n",
       "      <td>4.0</td>\n",
       "      <td>4.0</td>\n",
       "      <td>5.0</td>\n",
       "      <td>6.0</td>\n",
       "      <td>Detached Duplex</td>\n",
       "      <td>Ajah</td>\n",
       "      <td>Lagos</td>\n",
       "      <td>40000000.0</td>\n",
       "    </tr>\n",
       "    <tr>\n",
       "      <th>4</th>\n",
       "      <td>4.0</td>\n",
       "      <td>4.0</td>\n",
       "      <td>5.0</td>\n",
       "      <td>2.0</td>\n",
       "      <td>Semi Detached Duplex</td>\n",
       "      <td>Lekki</td>\n",
       "      <td>Lagos</td>\n",
       "      <td>75000000.0</td>\n",
       "    </tr>\n",
       "  </tbody>\n",
       "</table>\n",
       "</div>"
      ],
      "text/plain": [
       "   bedrooms  bathrooms  toilets  parking_space                 title     town  \\\n",
       "0       6.0        5.0      5.0            4.0       Detached Duplex  Mabushi   \n",
       "1       4.0        5.0      5.0            4.0     Terraced Duplexes  Katampe   \n",
       "2       4.0        5.0      5.0            4.0       Detached Duplex    Lekki   \n",
       "3       4.0        4.0      5.0            6.0       Detached Duplex     Ajah   \n",
       "4       4.0        4.0      5.0            2.0  Semi Detached Duplex    Lekki   \n",
       "\n",
       "   state        price  \n",
       "0  Abuja  450000000.0  \n",
       "1  Abuja  800000000.0  \n",
       "2  Lagos  120000000.0  \n",
       "3  Lagos   40000000.0  \n",
       "4  Lagos   75000000.0  "
      ]
     },
     "metadata": {},
     "output_type": "display_data"
    }
   ],
   "source": [
    "nigeria_df.info()\n",
    "display(nigeria_df.head())"
   ]
  },
  {
   "cell_type": "code",
   "execution_count": 217,
   "metadata": {},
   "outputs": [
    {
     "data": {
      "text/plain": [
       "(24326, 8)"
      ]
     },
     "execution_count": 217,
     "metadata": {},
     "output_type": "execute_result"
    }
   ],
   "source": [
    "nigeria_df.shape"
   ]
  },
  {
   "cell_type": "markdown",
   "metadata": {},
   "source": [
    "The dataset consists of 24,326 entries (rows) and 8 columns (features). This indicates that we have data for 24,326 properties across 8 features, which include both numeric and categorical attributes."
   ]
  },
  {
   "cell_type": "markdown",
   "metadata": {},
   "source": [
    "# Initial Observations and Data Understanding"
   ]
  },
  {
   "cell_type": "code",
   "execution_count": 218,
   "metadata": {},
   "outputs": [
    {
     "data": {
      "text/html": [
       "<div>\n",
       "<style scoped>\n",
       "    .dataframe tbody tr th:only-of-type {\n",
       "        vertical-align: middle;\n",
       "    }\n",
       "\n",
       "    .dataframe tbody tr th {\n",
       "        vertical-align: top;\n",
       "    }\n",
       "\n",
       "    .dataframe thead th {\n",
       "        text-align: right;\n",
       "    }\n",
       "</style>\n",
       "<table border=\"1\" class=\"dataframe\">\n",
       "  <thead>\n",
       "    <tr style=\"text-align: right;\">\n",
       "      <th></th>\n",
       "      <th>bedrooms</th>\n",
       "      <th>bathrooms</th>\n",
       "      <th>toilets</th>\n",
       "      <th>parking_space</th>\n",
       "      <th>price</th>\n",
       "    </tr>\n",
       "  </thead>\n",
       "  <tbody>\n",
       "    <tr>\n",
       "      <th>count</th>\n",
       "      <td>24326.000000</td>\n",
       "      <td>24326.000000</td>\n",
       "      <td>24326.000000</td>\n",
       "      <td>24326.000000</td>\n",
       "      <td>2.432600e+04</td>\n",
       "    </tr>\n",
       "    <tr>\n",
       "      <th>mean</th>\n",
       "      <td>4.338814</td>\n",
       "      <td>4.600798</td>\n",
       "      <td>5.176355</td>\n",
       "      <td>4.041725</td>\n",
       "      <td>3.013802e+08</td>\n",
       "    </tr>\n",
       "    <tr>\n",
       "      <th>std</th>\n",
       "      <td>1.138497</td>\n",
       "      <td>1.163161</td>\n",
       "      <td>1.226253</td>\n",
       "      <td>1.399936</td>\n",
       "      <td>1.220403e+10</td>\n",
       "    </tr>\n",
       "    <tr>\n",
       "      <th>min</th>\n",
       "      <td>1.000000</td>\n",
       "      <td>1.000000</td>\n",
       "      <td>1.000000</td>\n",
       "      <td>1.000000</td>\n",
       "      <td>9.000000e+04</td>\n",
       "    </tr>\n",
       "    <tr>\n",
       "      <th>25%</th>\n",
       "      <td>4.000000</td>\n",
       "      <td>4.000000</td>\n",
       "      <td>5.000000</td>\n",
       "      <td>4.000000</td>\n",
       "      <td>5.200000e+07</td>\n",
       "    </tr>\n",
       "    <tr>\n",
       "      <th>50%</th>\n",
       "      <td>4.000000</td>\n",
       "      <td>5.000000</td>\n",
       "      <td>5.000000</td>\n",
       "      <td>4.000000</td>\n",
       "      <td>8.500000e+07</td>\n",
       "    </tr>\n",
       "    <tr>\n",
       "      <th>75%</th>\n",
       "      <td>5.000000</td>\n",
       "      <td>5.000000</td>\n",
       "      <td>6.000000</td>\n",
       "      <td>4.000000</td>\n",
       "      <td>1.600000e+08</td>\n",
       "    </tr>\n",
       "    <tr>\n",
       "      <th>max</th>\n",
       "      <td>9.000000</td>\n",
       "      <td>9.000000</td>\n",
       "      <td>9.000000</td>\n",
       "      <td>9.000000</td>\n",
       "      <td>1.800000e+12</td>\n",
       "    </tr>\n",
       "  </tbody>\n",
       "</table>\n",
       "</div>"
      ],
      "text/plain": [
       "           bedrooms     bathrooms       toilets  parking_space         price\n",
       "count  24326.000000  24326.000000  24326.000000   24326.000000  2.432600e+04\n",
       "mean       4.338814      4.600798      5.176355       4.041725  3.013802e+08\n",
       "std        1.138497      1.163161      1.226253       1.399936  1.220403e+10\n",
       "min        1.000000      1.000000      1.000000       1.000000  9.000000e+04\n",
       "25%        4.000000      4.000000      5.000000       4.000000  5.200000e+07\n",
       "50%        4.000000      5.000000      5.000000       4.000000  8.500000e+07\n",
       "75%        5.000000      5.000000      6.000000       4.000000  1.600000e+08\n",
       "max        9.000000      9.000000      9.000000       9.000000  1.800000e+12"
      ]
     },
     "execution_count": 218,
     "metadata": {},
     "output_type": "execute_result"
    }
   ],
   "source": [
    "nigeria_df.describe()"
   ]
  },
  {
   "cell_type": "markdown",
   "metadata": {},
   "source": [
    "**Bedrooms, Bathrooms, Toilets, and Parking Space**\n",
    "\n",
    "- The mean values indicate that most properties are moderately sized, with an average of 4-5 bedrooms, 4-5 bathrooms, 5 toilets, and 4 parking spaces.\n",
    "- The maximum values (e.g., 9 bedrooms, 9 bathrooms, etc.) indicate that the dataset contains some large, luxury properties.\n",
    "\n",
    "**Price**\n",
    "\n",
    "- The mean price is around ₦301 million.\n",
    "- The standard deviation is very high (₦12.2 billion), indicating that there is significant variation in property prices.\n",
    "- The min value is ₦90 million, and the max value is a staggering ₦1.8 trillion, suggesting that there are both very affordable and extremely expensive properties."
   ]
  },
  {
   "cell_type": "code",
   "execution_count": 219,
   "metadata": {},
   "outputs": [
    {
     "data": {
      "text/html": [
       "<div>\n",
       "<style scoped>\n",
       "    .dataframe tbody tr th:only-of-type {\n",
       "        vertical-align: middle;\n",
       "    }\n",
       "\n",
       "    .dataframe tbody tr th {\n",
       "        vertical-align: top;\n",
       "    }\n",
       "\n",
       "    .dataframe thead th {\n",
       "        text-align: right;\n",
       "    }\n",
       "</style>\n",
       "<table border=\"1\" class=\"dataframe\">\n",
       "  <thead>\n",
       "    <tr style=\"text-align: right;\">\n",
       "      <th></th>\n",
       "      <th>title</th>\n",
       "      <th>town</th>\n",
       "      <th>state</th>\n",
       "    </tr>\n",
       "  </thead>\n",
       "  <tbody>\n",
       "    <tr>\n",
       "      <th>count</th>\n",
       "      <td>24326</td>\n",
       "      <td>24326</td>\n",
       "      <td>24326</td>\n",
       "    </tr>\n",
       "    <tr>\n",
       "      <th>unique</th>\n",
       "      <td>7</td>\n",
       "      <td>189</td>\n",
       "      <td>25</td>\n",
       "    </tr>\n",
       "    <tr>\n",
       "      <th>top</th>\n",
       "      <td>Detached Duplex</td>\n",
       "      <td>Lekki</td>\n",
       "      <td>Lagos</td>\n",
       "    </tr>\n",
       "    <tr>\n",
       "      <th>freq</th>\n",
       "      <td>13992</td>\n",
       "      <td>10895</td>\n",
       "      <td>18445</td>\n",
       "    </tr>\n",
       "  </tbody>\n",
       "</table>\n",
       "</div>"
      ],
      "text/plain": [
       "                  title   town  state\n",
       "count             24326  24326  24326\n",
       "unique                7    189     25\n",
       "top     Detached Duplex  Lekki  Lagos\n",
       "freq              13992  10895  18445"
      ]
     },
     "execution_count": 219,
     "metadata": {},
     "output_type": "execute_result"
    }
   ],
   "source": [
    "nigeria_df.describe(include=['object'])"
   ]
  },
  {
   "cell_type": "markdown",
   "metadata": {},
   "source": [
    "**Title**\n",
    "\n",
    "- There are 7 unique property types in the dataset, with 'Detached Duplex' being the most frequent (13,992 occurrences). This indicates that detached houses are the most common property type.\n",
    "\n",
    "**Town**\n",
    "\n",
    "- The dataset contains properties from 189 different towns. The most frequent town is Lekki with 10,895 occurrences, suggesting that Lekki is a popular area for real estate listings in Nigeria.\n",
    "\n",
    "**State**\n",
    "\n",
    "- There are 25 unique states, with Lagos being the most frequent (18,445 properties), indicating a strong real estate presence in Lagos."
   ]
  },
  {
   "cell_type": "code",
   "execution_count": 220,
   "metadata": {},
   "outputs": [
    {
     "name": "stdout",
     "output_type": "stream",
     "text": [
      "Column Names: ['bedrooms', 'bathrooms', 'toilets', 'parking_space', 'title', 'town', 'state', 'price']\n"
     ]
    }
   ],
   "source": [
    "print(\"Column Names:\", nigeria_df.columns.tolist())"
   ]
  },
  {
   "cell_type": "markdown",
   "metadata": {},
   "source": [
    "#  Data Cleaning\n",
    "- Addressing Datatypes\n",
    "- Missing Values Analysis\n",
    "- Duplicate Records\n",
    "- Outliers Detection"
   ]
  },
  {
   "cell_type": "markdown",
   "metadata": {},
   "source": [
    "## Addressing Datatypes"
   ]
  },
  {
   "cell_type": "code",
   "execution_count": 221,
   "metadata": {},
   "outputs": [
    {
     "data": {
      "text/plain": [
       "bedrooms         float64\n",
       "bathrooms        float64\n",
       "toilets          float64\n",
       "parking_space    float64\n",
       "title             object\n",
       "town              object\n",
       "state             object\n",
       "price            float64\n",
       "dtype: object"
      ]
     },
     "execution_count": 221,
     "metadata": {},
     "output_type": "execute_result"
    }
   ],
   "source": [
    "nigeria_df.dtypes\n"
   ]
  },
  {
   "cell_type": "code",
   "execution_count": 222,
   "metadata": {},
   "outputs": [
    {
     "data": {
      "text/html": [
       "<div>\n",
       "<style scoped>\n",
       "    .dataframe tbody tr th:only-of-type {\n",
       "        vertical-align: middle;\n",
       "    }\n",
       "\n",
       "    .dataframe tbody tr th {\n",
       "        vertical-align: top;\n",
       "    }\n",
       "\n",
       "    .dataframe thead th {\n",
       "        text-align: right;\n",
       "    }\n",
       "</style>\n",
       "<table border=\"1\" class=\"dataframe\">\n",
       "  <thead>\n",
       "    <tr style=\"text-align: right;\">\n",
       "      <th></th>\n",
       "      <th>bedrooms</th>\n",
       "      <th>bathrooms</th>\n",
       "      <th>toilets</th>\n",
       "      <th>parking_space</th>\n",
       "      <th>title</th>\n",
       "      <th>town</th>\n",
       "      <th>state</th>\n",
       "      <th>price</th>\n",
       "    </tr>\n",
       "  </thead>\n",
       "  <tbody>\n",
       "    <tr>\n",
       "      <th>0</th>\n",
       "      <td>6.0</td>\n",
       "      <td>5.0</td>\n",
       "      <td>5.0</td>\n",
       "      <td>4.0</td>\n",
       "      <td>Detached Duplex</td>\n",
       "      <td>Mabushi</td>\n",
       "      <td>Abuja</td>\n",
       "      <td>450000000.0</td>\n",
       "    </tr>\n",
       "    <tr>\n",
       "      <th>1</th>\n",
       "      <td>4.0</td>\n",
       "      <td>5.0</td>\n",
       "      <td>5.0</td>\n",
       "      <td>4.0</td>\n",
       "      <td>Terraced Duplexes</td>\n",
       "      <td>Katampe</td>\n",
       "      <td>Abuja</td>\n",
       "      <td>800000000.0</td>\n",
       "    </tr>\n",
       "    <tr>\n",
       "      <th>2</th>\n",
       "      <td>4.0</td>\n",
       "      <td>5.0</td>\n",
       "      <td>5.0</td>\n",
       "      <td>4.0</td>\n",
       "      <td>Detached Duplex</td>\n",
       "      <td>Lekki</td>\n",
       "      <td>Lagos</td>\n",
       "      <td>120000000.0</td>\n",
       "    </tr>\n",
       "    <tr>\n",
       "      <th>3</th>\n",
       "      <td>4.0</td>\n",
       "      <td>4.0</td>\n",
       "      <td>5.0</td>\n",
       "      <td>6.0</td>\n",
       "      <td>Detached Duplex</td>\n",
       "      <td>Ajah</td>\n",
       "      <td>Lagos</td>\n",
       "      <td>40000000.0</td>\n",
       "    </tr>\n",
       "    <tr>\n",
       "      <th>4</th>\n",
       "      <td>4.0</td>\n",
       "      <td>4.0</td>\n",
       "      <td>5.0</td>\n",
       "      <td>2.0</td>\n",
       "      <td>Semi Detached Duplex</td>\n",
       "      <td>Lekki</td>\n",
       "      <td>Lagos</td>\n",
       "      <td>75000000.0</td>\n",
       "    </tr>\n",
       "  </tbody>\n",
       "</table>\n",
       "</div>"
      ],
      "text/plain": [
       "   bedrooms  bathrooms  toilets  parking_space                 title     town  \\\n",
       "0       6.0        5.0      5.0            4.0       Detached Duplex  Mabushi   \n",
       "1       4.0        5.0      5.0            4.0     Terraced Duplexes  Katampe   \n",
       "2       4.0        5.0      5.0            4.0       Detached Duplex    Lekki   \n",
       "3       4.0        4.0      5.0            6.0       Detached Duplex     Ajah   \n",
       "4       4.0        4.0      5.0            2.0  Semi Detached Duplex    Lekki   \n",
       "\n",
       "   state        price  \n",
       "0  Abuja  450000000.0  \n",
       "1  Abuja  800000000.0  \n",
       "2  Lagos  120000000.0  \n",
       "3  Lagos   40000000.0  \n",
       "4  Lagos   75000000.0  "
      ]
     },
     "execution_count": 222,
     "metadata": {},
     "output_type": "execute_result"
    }
   ],
   "source": [
    "nigeria_df.head()"
   ]
  },
  {
   "cell_type": "markdown",
   "metadata": {},
   "source": [
    "We can see that `bedrooms`, `bathrooms`, `toilets` and `parking_space` are all float datatypes instead of interger. We will need to address that."
   ]
  },
  {
   "cell_type": "code",
   "execution_count": 223,
   "metadata": {},
   "outputs": [
    {
     "name": "stdout",
     "output_type": "stream",
     "text": [
      "bedrooms         int64\n",
      "bathrooms        int64\n",
      "toilets          int64\n",
      "parking_space    int64\n",
      "dtype: object\n"
     ]
    }
   ],
   "source": [
    "# Convert specified columns from float to int\n",
    "columns_to_convert = ['bedrooms', 'bathrooms', 'toilets', 'parking_space']\n",
    "nigeria_df[columns_to_convert] = nigeria_df[columns_to_convert].astype('int64')\n",
    "\n",
    "# Verify the conversion\n",
    "print(nigeria_df[columns_to_convert].dtypes)"
   ]
  },
  {
   "cell_type": "code",
   "execution_count": 224,
   "metadata": {},
   "outputs": [],
   "source": [
    "COLUMNS_CONFIG = os.getenv(\"COLUMNS_CONFIG\", default=\"config/columns.json\")\n",
    "\n",
    "# Write the 'columns' column configuration\n",
    "with open(COLUMNS_CONFIG, \"w\") as f:\n",
    "    columns = {col: nigeria_df[col].dtype.name for col in nigeria_df.columns}\n",
    "    json.dump(columns, f)"
   ]
  },
  {
   "cell_type": "markdown",
   "metadata": {},
   "source": [
    "## Missing Values Analysis"
   ]
  },
  {
   "cell_type": "code",
   "execution_count": 225,
   "metadata": {},
   "outputs": [
    {
     "data": {
      "text/plain": [
       "bedrooms         0\n",
       "bathrooms        0\n",
       "toilets          0\n",
       "parking_space    0\n",
       "title            0\n",
       "town             0\n",
       "state            0\n",
       "price            0\n",
       "dtype: int64"
      ]
     },
     "execution_count": 225,
     "metadata": {},
     "output_type": "execute_result"
    }
   ],
   "source": [
    "nigeria_df.isnull().sum()"
   ]
  },
  {
   "cell_type": "markdown",
   "metadata": {},
   "source": [
    "we can see that there are no missing values"
   ]
  },
  {
   "cell_type": "markdown",
   "metadata": {},
   "source": [
    "## Duplicate Records"
   ]
  },
  {
   "cell_type": "code",
   "execution_count": 226,
   "metadata": {},
   "outputs": [
    {
     "data": {
      "text/plain": [
       "10438"
      ]
     },
     "execution_count": 226,
     "metadata": {},
     "output_type": "execute_result"
    }
   ],
   "source": [
    "nigeria_df.duplicated().sum()"
   ]
  },
  {
   "cell_type": "code",
   "execution_count": 227,
   "metadata": {},
   "outputs": [
    {
     "data": {
      "text/plain": [
       "0"
      ]
     },
     "execution_count": 227,
     "metadata": {},
     "output_type": "execute_result"
    }
   ],
   "source": [
    "# Keep the first occurrence\n",
    "nigeria_df = nigeria_df.drop_duplicates()\n",
    "nigeria_df.duplicated().sum()"
   ]
  },
  {
   "cell_type": "code",
   "execution_count": 228,
   "metadata": {},
   "outputs": [
    {
     "data": {
      "text/plain": [
       "(13888, 8)"
      ]
     },
     "execution_count": 228,
     "metadata": {},
     "output_type": "execute_result"
    }
   ],
   "source": [
    "nigeria_df.shape"
   ]
  },
  {
   "cell_type": "markdown",
   "metadata": {},
   "source": [
    "## Outlier Detection"
   ]
  },
  {
   "cell_type": "code",
   "execution_count": 231,
   "metadata": {},
   "outputs": [
    {
     "data": {
      "text/plain": [
       "bedrooms           0.303463\n",
       "bathrooms          0.004096\n",
       "toilets           -0.316401\n",
       "parking_space      0.499450\n",
       "price            102.064848\n",
       "dtype: float64"
      ]
     },
     "execution_count": 231,
     "metadata": {},
     "output_type": "execute_result"
    }
   ],
   "source": [
    "nigeria_df.select_dtypes('number').skew()"
   ]
  },
  {
   "cell_type": "markdown",
   "metadata": {},
   "source": [
    "The skewness values we’ve calculated for the numerical features show the following:\n",
    "\n",
    "- bedrooms: 0.303 — Mild positive skew.\n",
    "- bathrooms: 0.004 — Almost symmetric (negligible skew).\n",
    "- toilets: -0.316 — Mild negative skew.\n",
    "- parking_space: 0.499 — Moderate positive skew.\n",
    "- price: 102.065 — Strong positive skew."
   ]
  },
  {
   "cell_type": "code",
   "execution_count": 232,
   "metadata": {},
   "outputs": [
    {
     "data": {
      "text/plain": [
       "<Axes: xlabel='price'>"
      ]
     },
     "execution_count": 232,
     "metadata": {},
     "output_type": "execute_result"
    },
    {
     "data": {
      "image/png": "[encoded data removed]",
      "text/plain": [
       "<Figure size 640x480 with 1 Axes>"
      ]
     },
     "metadata": {},
     "output_type": "display_data"
    }
   ],
   "source": [
    "import seaborn as sns\n",
    "sns.boxplot(x=nigeria_df['price'])\n"
   ]
  },
  {
   "cell_type": "code",
   "execution_count": 233,
   "metadata": {},
   "outputs": [
    {
     "data": {
      "text/plain": [
       "<Axes: >"
      ]
     },
     "execution_count": 233,
     "metadata": {},
     "output_type": "execute_result"
    },
    {
     "data": {
      "image/png": "[encoded data removed]",
      "text/plain": [
       "<Figure size 640x480 with 1 Axes>"
      ]
     },
     "metadata": {},
     "output_type": "display_data"
    }
   ],
   "source": [
    "import seaborn as sns\n",
    "sns.boxplot(data=nigeria_df[['bedrooms', 'bathrooms', 'toilets', 'parking_space', 'price']])\n"
   ]
  },
  {
   "cell_type": "code",
   "execution_count": 234,
   "metadata": {},
   "outputs": [
    {
     "data": {
      "image/png": "[encoded data removed]",
      "text/plain": [
       "<Figure size 1000x600 with 1 Axes>"
      ]
     },
     "metadata": {},
     "output_type": "display_data"
    }
   ],
   "source": [
    "# Plotting the histogram for the 'price' column\n",
    "plt.figure(figsize=(10, 6))\n",
    "sns.histplot(nigeria_df['price'], kde=False, color='blue', bins=50)\n",
    "plt.title('Distribution of House Prices')\n",
    "plt.xlabel('Price (in Naira)')\n",
    "plt.ylabel('Frequency')\n",
    "plt.show()\n"
   ]
  },
  {
   "cell_type": "markdown",
   "metadata": {},
   "source": [
    "From the above Outlier detection and also confirming with Visualization method we can wee that only `price` feature is heavily right skewed. we will need to address this. "
   ]
  },
  {
   "cell_type": "code",
   "execution_count": 235,
   "metadata": {},
   "outputs": [
    {
     "data": {
      "text/plain": [
       "bedrooms         0.303463\n",
       "bathrooms        0.004096\n",
       "toilets         -0.316401\n",
       "parking_space    0.499450\n",
       "price            0.373771\n",
       "dtype: float64"
      ]
     },
     "execution_count": 235,
     "metadata": {},
     "output_type": "execute_result"
    }
   ],
   "source": [
    "# Apply log transformation to the 'price' feature\n",
    "nigeria_df['price'] = np.log1p(nigeria_df['price'])\n",
    "nigeria_df.select_dtypes('number').skew()"
   ]
  },
  {
   "cell_type": "markdown",
   "metadata": {},
   "source": [
    "# Exploratory Data Analysis (EDA)"
   ]
  },
  {
   "cell_type": "code",
   "execution_count": 236,
   "metadata": {},
   "outputs": [
    {
     "data": {
      "image/png": "[encoded data removed]",
      "text/plain": [
       "<Figure size 800x400 with 1 Axes>"
      ]
     },
     "metadata": {},
     "output_type": "display_data"
    }
   ],
   "source": [
    "plt.figure(figsize=(8, 4))\n",
    "sns.countplot(x='state', data=nigeria_df)\n",
    "plt.xticks(rotation=90)  # Rotate labels to avoid overlap\n",
    "plt.title('Distribution of Properties by State')\n",
    "plt.xlabel('State')\n",
    "plt.ylabel('Count')\n",
    "plt.show()"
   ]
  },
  {
   "cell_type": "code",
   "execution_count": 237,
   "metadata": {},
   "outputs": [
    {
     "data": {
      "image/png": "[encoded data removed]",
      "text/plain": [
       "<Figure size 800x500 with 1 Axes>"
      ]
     },
     "metadata": {},
     "output_type": "display_data"
    }
   ],
   "source": [
    "# Plot histogram with KDE for price\n",
    "plt.figure(figsize=(8, 5))\n",
    "sns.histplot(nigeria_df['price'], kde=True, bins=50, color='purple')\n",
    "plt.title('Distribution of House Prices')\n",
    "plt.xlabel('Price (in Naira)')\n",
    "plt.ylabel('Frequency')\n",
    "plt.show()"
   ]
  },
  {
   "cell_type": "code",
   "execution_count": 238,
   "metadata": {},
   "outputs": [
    {
     "data": {
      "image/png": "[encoded data removed]",
      "text/plain": [
       "<Figure size 800x500 with 1 Axes>"
      ]
     },
     "metadata": {},
     "output_type": "display_data"
    }
   ],
   "source": [
    "# Plot histogram with KDE for price\n",
    "plt.figure(figsize=(8, 5))\n",
    "sns.histplot(nigeria_df['bedrooms'], kde=True, bins=50, color='purple')\n",
    "plt.title('Distribution of House Bedrooms')\n",
    "plt.xlabel('Price (in Naira)')\n",
    "plt.ylabel('Frequency')\n",
    "plt.show();"
   ]
  },
  {
   "cell_type": "code",
   "execution_count": 239,
   "metadata": {},
   "outputs": [
    {
     "data": {
      "image/png": "[encoded data removed]",
      "text/plain": [
       "<Figure size 800x500 with 1 Axes>"
      ]
     },
     "metadata": {},
     "output_type": "display_data"
    }
   ],
   "source": [
    "# Plot histogram with KDE for price\n",
    "plt.figure(figsize=(8, 5))\n",
    "sns.histplot(nigeria_df['bathrooms'], kde=True, bins=50, color='purple')\n",
    "plt.title('Distribution of House Bathrooms')\n",
    "plt.xlabel('Price (in Naira)')\n",
    "plt.ylabel('Frequency')\n",
    "plt.show()"
   ]
  },
  {
   "cell_type": "code",
   "execution_count": 240,
   "metadata": {},
   "outputs": [
    {
     "name": "stderr",
     "output_type": "stream",
     "text": [
      "C:\\Users\\USER\\AppData\\Local\\Temp\\ipykernel_56120\\3973947386.py:1: FutureWarning: The default value of numeric_only in DataFrame.corr is deprecated. In a future version, it will default to False. Select only valid columns or specify the value of numeric_only to silence this warning.\n",
      "  sns.heatmap(nigeria_df.corr(), annot=True)\n"
     ]
    },
    {
     "data": {
      "text/plain": [
       "<Axes: >"
      ]
     },
     "execution_count": 240,
     "metadata": {},
     "output_type": "execute_result"
    },
    {
     "data": {
      "image/png": "[encoded data removed]",
      "text/plain": [
       "<Figure size 640x480 with 2 Axes>"
      ]
     },
     "metadata": {},
     "output_type": "display_data"
    }
   ],
   "source": [
    "sns.heatmap(nigeria_df.corr(), annot=True)"
   ]
  },
  {
   "cell_type": "markdown",
   "metadata": {},
   "source": [
    "## Categorical Analysis"
   ]
  },
  {
   "cell_type": "code",
   "execution_count": 241,
   "metadata": {},
   "outputs": [
    {
     "data": {
      "image/png": "[encoded data removed]",
      "text/plain": [
       "<Figure size 1200x600 with 1 Axes>"
      ]
     },
     "metadata": {},
     "output_type": "display_data"
    }
   ],
   "source": [
    "plt.figure(figsize=(12, 6))\n",
    "sns.boxplot(x='title', y='price', data=nigeria_df)\n",
    "plt.xticks(rotation=90)  # Rotate labels to avoid overlap\n",
    "plt.title('House Prices by title')\n",
    "plt.xlabel('title')\n",
    "plt.ylabel('Price (in Naira)')\n",
    "plt.show();"
   ]
  },
  {
   "cell_type": "code",
   "execution_count": 242,
   "metadata": {},
   "outputs": [
    {
     "data": {
      "image/png": "[encoded data removed]",
      "text/plain": [
       "<Figure size 1200x600 with 1 Axes>"
      ]
     },
     "metadata": {},
     "output_type": "display_data"
    }
   ],
   "source": [
    "# Apply log transformation if needed\n",
    "plt.figure(figsize=(12, 6))\n",
    "sns.boxplot(x='state', y='price', data=nigeria_df)\n",
    "plt.xticks(rotation=90)  # Rotate labels to avoid overlap\n",
    "plt.title('House Prices by State')\n",
    "plt.xlabel('State')\n",
    "plt.ylabel('Price (in Naira)')\n",
    "plt.show()\n"
   ]
  },
  {
   "cell_type": "markdown",
   "metadata": {},
   "source": [
    "# Data Preprocessing and Feature Engineering"
   ]
  },
  {
   "cell_type": "code",
   "execution_count": 243,
   "metadata": {},
   "outputs": [
    {
     "data": {
      "text/plain": [
       "array(['Detached Duplex', 'Terraced Duplexes', 'Semi Detached Duplex',\n",
       "       'Detached Bungalow', 'Block of Flats', 'Semi Detached Bungalow',\n",
       "       'Terraced Bungalow'], dtype=object)"
      ]
     },
     "execution_count": 243,
     "metadata": {},
     "output_type": "execute_result"
    }
   ],
   "source": [
    "nigeria_df['title'].unique()"
   ]
  },
  {
   "cell_type": "code",
   "execution_count": 244,
   "metadata": {},
   "outputs": [],
   "source": [
    "nigeria_df['property_type'] = nigeria_df['title'].map({\n",
    "    'Detached Duplex': 1,\n",
    "    'Terraced Duplexes': 2,\n",
    "    'Semi Detached Duplex': 3,\n",
    "    'Detached Bungalow': 4,\n",
    "    'Block of Flats': 5,\n",
    "    'Semi Detached Bungalow': 6,\n",
    "    'Terraced Bungalow': 7\n",
    "})\n",
    "nigeria_df.drop('title',axis = 1, inplace = True)\n",
    "\n",
    "# Save property type mapping to JSON\n",
    "PROPERTY_TYPE_CONFIG = os.getenv(\"PROPERTY_TYPE_CONFIG\", default=\"config/property_type.json\")\n",
    "with open(PROPERTY_TYPE_CONFIG, \"w\") as f:\n",
    "    json.dump(property_type_mapping, f, indent=4)"
   ]
  },
  {
   "cell_type": "code",
   "execution_count": 198,
   "metadata": {},
   "outputs": [],
   "source": [
    "# Create a new feature 'price_per_bedroom'\n",
    "nigeria_df['price_per_bedroom'] = nigeria_df['price'] / nigeria_df['bedrooms']"
   ]
  },
  {
   "cell_type": "code",
   "execution_count": 199,
   "metadata": {},
   "outputs": [
    {
     "data": {
      "text/html": [
       "<div>\n",
       "<style scoped>\n",
       "    .dataframe tbody tr th:only-of-type {\n",
       "        vertical-align: middle;\n",
       "    }\n",
       "\n",
       "    .dataframe tbody tr th {\n",
       "        vertical-align: top;\n",
       "    }\n",
       "\n",
       "    .dataframe thead th {\n",
       "        text-align: right;\n",
       "    }\n",
       "</style>\n",
       "<table border=\"1\" class=\"dataframe\">\n",
       "  <thead>\n",
       "    <tr style=\"text-align: right;\">\n",
       "      <th></th>\n",
       "      <th>bedrooms</th>\n",
       "      <th>bathrooms</th>\n",
       "      <th>toilets</th>\n",
       "      <th>parking_space</th>\n",
       "      <th>town</th>\n",
       "      <th>state</th>\n",
       "      <th>price</th>\n",
       "      <th>property_type</th>\n",
       "      <th>price_per_bedroom</th>\n",
       "    </tr>\n",
       "  </thead>\n",
       "  <tbody>\n",
       "    <tr>\n",
       "      <th>0</th>\n",
       "      <td>6</td>\n",
       "      <td>5</td>\n",
       "      <td>5</td>\n",
       "      <td>4</td>\n",
       "      <td>Mabushi</td>\n",
       "      <td>Abuja</td>\n",
       "      <td>19.924758</td>\n",
       "      <td>1</td>\n",
       "      <td>3.320793</td>\n",
       "    </tr>\n",
       "    <tr>\n",
       "      <th>1</th>\n",
       "      <td>4</td>\n",
       "      <td>5</td>\n",
       "      <td>5</td>\n",
       "      <td>4</td>\n",
       "      <td>Katampe</td>\n",
       "      <td>Abuja</td>\n",
       "      <td>20.500122</td>\n",
       "      <td>2</td>\n",
       "      <td>5.125031</td>\n",
       "    </tr>\n",
       "    <tr>\n",
       "      <th>2</th>\n",
       "      <td>4</td>\n",
       "      <td>5</td>\n",
       "      <td>5</td>\n",
       "      <td>4</td>\n",
       "      <td>Lekki</td>\n",
       "      <td>Lagos</td>\n",
       "      <td>18.603002</td>\n",
       "      <td>1</td>\n",
       "      <td>4.650751</td>\n",
       "    </tr>\n",
       "    <tr>\n",
       "      <th>3</th>\n",
       "      <td>4</td>\n",
       "      <td>4</td>\n",
       "      <td>5</td>\n",
       "      <td>6</td>\n",
       "      <td>Ajah</td>\n",
       "      <td>Lagos</td>\n",
       "      <td>17.504390</td>\n",
       "      <td>1</td>\n",
       "      <td>4.376098</td>\n",
       "    </tr>\n",
       "    <tr>\n",
       "      <th>4</th>\n",
       "      <td>4</td>\n",
       "      <td>4</td>\n",
       "      <td>5</td>\n",
       "      <td>2</td>\n",
       "      <td>Lekki</td>\n",
       "      <td>Lagos</td>\n",
       "      <td>18.132999</td>\n",
       "      <td>3</td>\n",
       "      <td>4.533250</td>\n",
       "    </tr>\n",
       "  </tbody>\n",
       "</table>\n",
       "</div>"
      ],
      "text/plain": [
       "   bedrooms  bathrooms  toilets  parking_space     town  state      price  \\\n",
       "0         6          5        5              4  Mabushi  Abuja  19.924758   \n",
       "1         4          5        5              4  Katampe  Abuja  20.500122   \n",
       "2         4          5        5              4    Lekki  Lagos  18.603002   \n",
       "3         4          4        5              6     Ajah  Lagos  17.504390   \n",
       "4         4          4        5              2    Lekki  Lagos  18.132999   \n",
       "\n",
       "   property_type  price_per_bedroom  \n",
       "0              1           3.320793  \n",
       "1              2           5.125031  \n",
       "2              1           4.650751  \n",
       "3              1           4.376098  \n",
       "4              3           4.533250  "
      ]
     },
     "execution_count": 199,
     "metadata": {},
     "output_type": "execute_result"
    }
   ],
   "source": [
    "nigeria_df.head()"
   ]
  },
  {
   "cell_type": "code",
   "execution_count": 200,
   "metadata": {},
   "outputs": [
    {
     "data": {
      "text/plain": [
       "array(['Abuja', 'Lagos', 'Edo', 'Ogun', 'Oyo', 'Imo', 'Anambara',\n",
       "       'Rivers', 'Enugu', 'Kaduna', 'Kwara', 'Nasarawa', 'Abia', 'Delta',\n",
       "       'Akwa Ibom', 'Osun', 'Ekiti', 'Cross River', 'Kogi', 'Plateau',\n",
       "       'Kano', 'Katsina', 'Bayelsa', 'Borno', 'Niger'], dtype=object)"
      ]
     },
     "execution_count": 200,
     "metadata": {},
     "output_type": "execute_result"
    }
   ],
   "source": [
    "nigeria_df['state'].unique()"
   ]
  },
  {
   "cell_type": "code",
   "execution_count": 201,
   "metadata": {},
   "outputs": [
    {
     "data": {
      "text/html": [
       "<div>\n",
       "<style scoped>\n",
       "    .dataframe tbody tr th:only-of-type {\n",
       "        vertical-align: middle;\n",
       "    }\n",
       "\n",
       "    .dataframe tbody tr th {\n",
       "        vertical-align: top;\n",
       "    }\n",
       "\n",
       "    .dataframe thead th {\n",
       "        text-align: right;\n",
       "    }\n",
       "</style>\n",
       "<table border=\"1\" class=\"dataframe\">\n",
       "  <thead>\n",
       "    <tr style=\"text-align: right;\">\n",
       "      <th></th>\n",
       "      <th>bedrooms</th>\n",
       "      <th>bathrooms</th>\n",
       "      <th>toilets</th>\n",
       "      <th>parking_space</th>\n",
       "      <th>town</th>\n",
       "      <th>price</th>\n",
       "      <th>property_type</th>\n",
       "      <th>price_per_bedroom</th>\n",
       "      <th>state_encoded</th>\n",
       "    </tr>\n",
       "  </thead>\n",
       "  <tbody>\n",
       "    <tr>\n",
       "      <th>0</th>\n",
       "      <td>6</td>\n",
       "      <td>5</td>\n",
       "      <td>5</td>\n",
       "      <td>4</td>\n",
       "      <td>Mabushi</td>\n",
       "      <td>19.924758</td>\n",
       "      <td>1</td>\n",
       "      <td>3.320793</td>\n",
       "      <td>1</td>\n",
       "    </tr>\n",
       "    <tr>\n",
       "      <th>1</th>\n",
       "      <td>4</td>\n",
       "      <td>5</td>\n",
       "      <td>5</td>\n",
       "      <td>4</td>\n",
       "      <td>Katampe</td>\n",
       "      <td>20.500122</td>\n",
       "      <td>2</td>\n",
       "      <td>5.125031</td>\n",
       "      <td>1</td>\n",
       "    </tr>\n",
       "    <tr>\n",
       "      <th>2</th>\n",
       "      <td>4</td>\n",
       "      <td>5</td>\n",
       "      <td>5</td>\n",
       "      <td>4</td>\n",
       "      <td>Lekki</td>\n",
       "      <td>18.603002</td>\n",
       "      <td>1</td>\n",
       "      <td>4.650751</td>\n",
       "      <td>17</td>\n",
       "    </tr>\n",
       "    <tr>\n",
       "      <th>3</th>\n",
       "      <td>4</td>\n",
       "      <td>4</td>\n",
       "      <td>5</td>\n",
       "      <td>6</td>\n",
       "      <td>Ajah</td>\n",
       "      <td>17.504390</td>\n",
       "      <td>1</td>\n",
       "      <td>4.376098</td>\n",
       "      <td>17</td>\n",
       "    </tr>\n",
       "    <tr>\n",
       "      <th>4</th>\n",
       "      <td>4</td>\n",
       "      <td>4</td>\n",
       "      <td>5</td>\n",
       "      <td>2</td>\n",
       "      <td>Lekki</td>\n",
       "      <td>18.132999</td>\n",
       "      <td>3</td>\n",
       "      <td>4.533250</td>\n",
       "      <td>17</td>\n",
       "    </tr>\n",
       "  </tbody>\n",
       "</table>\n",
       "</div>"
      ],
      "text/plain": [
       "   bedrooms  bathrooms  toilets  parking_space     town      price  \\\n",
       "0         6          5        5              4  Mabushi  19.924758   \n",
       "1         4          5        5              4  Katampe  20.500122   \n",
       "2         4          5        5              4    Lekki  18.603002   \n",
       "3         4          4        5              6     Ajah  17.504390   \n",
       "4         4          4        5              2    Lekki  18.132999   \n",
       "\n",
       "   property_type  price_per_bedroom  state_encoded  \n",
       "0              1           3.320793              1  \n",
       "1              2           5.125031              1  \n",
       "2              1           4.650751             17  \n",
       "3              1           4.376098             17  \n",
       "4              3           4.533250             17  "
      ]
     },
     "execution_count": 201,
     "metadata": {},
     "output_type": "execute_result"
    }
   ],
   "source": [
    "# Initialize the label encoder\n",
    "le_state = LabelEncoder()\n",
    "\n",
    "# Apply label encoding to the 'state' column\n",
    "nigeria_df['state_encoded'] = le_state.fit_transform(nigeria_df['state'])\n",
    "nigeria_df.drop('state', axis = 1, inplace = True)\n",
    "nigeria_df.head()"
   ]
  },
  {
   "cell_type": "code",
   "execution_count": 211,
   "metadata": {},
   "outputs": [
    {
     "data": {
      "text/html": [
       "<div>\n",
       "<style scoped>\n",
       "    .dataframe tbody tr th:only-of-type {\n",
       "        vertical-align: middle;\n",
       "    }\n",
       "\n",
       "    .dataframe tbody tr th {\n",
       "        vertical-align: top;\n",
       "    }\n",
       "\n",
       "    .dataframe thead th {\n",
       "        text-align: right;\n",
       "    }\n",
       "</style>\n",
       "<table border=\"1\" class=\"dataframe\">\n",
       "  <thead>\n",
       "    <tr style=\"text-align: right;\">\n",
       "      <th></th>\n",
       "      <th>bedrooms</th>\n",
       "      <th>bathrooms</th>\n",
       "      <th>toilets</th>\n",
       "      <th>parking_space</th>\n",
       "      <th>town</th>\n",
       "      <th>price</th>\n",
       "      <th>property_type</th>\n",
       "      <th>price_per_bedroom</th>\n",
       "      <th>state_encoded</th>\n",
       "    </tr>\n",
       "  </thead>\n",
       "  <tbody>\n",
       "    <tr>\n",
       "      <th>0</th>\n",
       "      <td>6</td>\n",
       "      <td>5</td>\n",
       "      <td>5</td>\n",
       "      <td>4</td>\n",
       "      <td>Mabushi</td>\n",
       "      <td>19.924758</td>\n",
       "      <td>1</td>\n",
       "      <td>3.320793</td>\n",
       "      <td>1</td>\n",
       "    </tr>\n",
       "    <tr>\n",
       "      <th>1</th>\n",
       "      <td>4</td>\n",
       "      <td>5</td>\n",
       "      <td>5</td>\n",
       "      <td>4</td>\n",
       "      <td>Katampe</td>\n",
       "      <td>20.500122</td>\n",
       "      <td>2</td>\n",
       "      <td>5.125031</td>\n",
       "      <td>1</td>\n",
       "    </tr>\n",
       "    <tr>\n",
       "      <th>2</th>\n",
       "      <td>4</td>\n",
       "      <td>5</td>\n",
       "      <td>5</td>\n",
       "      <td>4</td>\n",
       "      <td>Lekki</td>\n",
       "      <td>18.603002</td>\n",
       "      <td>1</td>\n",
       "      <td>4.650751</td>\n",
       "      <td>17</td>\n",
       "    </tr>\n",
       "    <tr>\n",
       "      <th>3</th>\n",
       "      <td>4</td>\n",
       "      <td>4</td>\n",
       "      <td>5</td>\n",
       "      <td>6</td>\n",
       "      <td>Ajah</td>\n",
       "      <td>17.504390</td>\n",
       "      <td>1</td>\n",
       "      <td>4.376098</td>\n",
       "      <td>17</td>\n",
       "    </tr>\n",
       "    <tr>\n",
       "      <th>4</th>\n",
       "      <td>4</td>\n",
       "      <td>4</td>\n",
       "      <td>5</td>\n",
       "      <td>2</td>\n",
       "      <td>Lekki</td>\n",
       "      <td>18.132999</td>\n",
       "      <td>3</td>\n",
       "      <td>4.533250</td>\n",
       "      <td>17</td>\n",
       "    </tr>\n",
       "  </tbody>\n",
       "</table>\n",
       "</div>"
      ],
      "text/plain": [
       "   bedrooms  bathrooms  toilets  parking_space     town      price  \\\n",
       "0         6          5        5              4  Mabushi  19.924758   \n",
       "1         4          5        5              4  Katampe  20.500122   \n",
       "2         4          5        5              4    Lekki  18.603002   \n",
       "3         4          4        5              6     Ajah  17.504390   \n",
       "4         4          4        5              2    Lekki  18.132999   \n",
       "\n",
       "   property_type  price_per_bedroom  state_encoded  \n",
       "0              1           3.320793              1  \n",
       "1              2           5.125031              1  \n",
       "2              1           4.650751             17  \n",
       "3              1           4.376098             17  \n",
       "4              3           4.533250             17  "
      ]
     },
     "execution_count": 211,
     "metadata": {},
     "output_type": "execute_result"
    }
   ],
   "source": [
    "# Define the path for saving the JSON configuration\n",
    "STATE_ENCODING_CONFIG = os.getenv(\"STATE_ENCODING_CONFIG\", default=\"config/state_encoding.json\")\n",
    "\n",
    "# Create a dictionary to map each state to its encoded value\n",
    "state_encoding = {state: int(encoded) for state, encoded in zip(le_state.classes_, le_state.transform(le_state.classes_))}\n",
    "\n",
    "# Write the state encoding mapping to a JSON file\n",
    "with open(STATE_ENCODING_CONFIG, \"w\") as f:\n",
    "    json.dump(state_encoding, f, indent=4)\n",
    "\n",
    "# Display the first few rows to confirm\n",
    "nigeria_df.head()"
   ]
  },
  {
   "cell_type": "code",
   "execution_count": 202,
   "metadata": {},
   "outputs": [
    {
     "data": {
      "text/plain": [
       "array(['Mabushi', 'Katampe', 'Lekki', 'Ajah', 'Epe', 'Lokogoma District',\n",
       "       'Oredo', 'Victoria Island (VI)', 'Mowe Ofada', 'Ikeja', 'Ikoyi',\n",
       "       'Magodo', 'Kaura', 'Galadimawa', 'Gwarinpa', 'Abeokuta North',\n",
       "       'Lugbe District', 'Ibeju Lekki', 'Yaba', 'Sango Ota',\n",
       "       'Ifako-Ijaiye', 'Agege', 'Ikorodu', 'Jahi', 'Ibadan', 'Orozo',\n",
       "       'Ifo', 'Owerri North', 'Guzape District', 'Idu Industrial',\n",
       "       'Owerri Municipal', 'Isheri North', 'Utako', 'Port Harcourt',\n",
       "       'Kuje', 'Isheri', 'Life Camp', 'Ipaja', 'Ado-Odo/Ota', 'Dape',\n",
       "       'Mushin', 'Ejigbo', 'Isolo', 'Ojodu', 'Gaduwa', 'Enugu', 'Dakwo',\n",
       "       'Asokoro District', 'Alimosho', 'Sagamu', 'Chikun', 'Egbeda',\n",
       "       'Wuye', 'Kubwa', 'Shomolu', 'Ogudu', 'Owerri West', 'Ibafo',\n",
       "       'Surulere', 'Obio-Akpor', 'Ayobo', 'Apo', 'Mowe Town',\n",
       "       'Ibadan South-West', 'Wuse 2', 'Durumi', 'Simawa', 'Arepo',\n",
       "       'Ikotun', 'Oluyole', 'Maitama District', 'Maryland', 'Ido',\n",
       "       'Karsana', 'Wuse', 'Ilorin West', 'Kurudu', 'Karmo',\n",
       "       'Abeokuta South', 'KM 46', 'Gbagada', 'Idimu', 'Kaduna South',\n",
       "       'Magboro', 'Gudu', 'Kukwaba', 'Mbora (Nbora)', 'Obafemi Owode',\n",
       "       'Jabi', 'Karu', 'Ojo', 'Garki', 'Aba', 'Ogijo', 'Asaba', 'Uyo',\n",
       "       'Kosofe', 'Oyigbo', 'Karshi', 'Osogbo', 'Kado', 'Ilupeju',\n",
       "       'Afijio', 'Ketu', 'Ado-Ekiti', 'Ibadan North', 'Egor', 'Nyanya',\n",
       "       'Ibarapa North', 'Kyami', 'Ojota', 'Dutse', 'Nasarawa', 'Calabar',\n",
       "       'Kaduna North', 'Eleme', 'Kafe', 'Oshodi', 'Dakibiyu',\n",
       "       'Amuwo Odofin', 'Ijede', 'Bwari', 'Dekina', 'Jos South',\n",
       "       'Agbara-Igbesa', 'Ijaiye', 'Kagini', 'Ohaji/Egbema', 'Mpape',\n",
       "       'Apapa', 'Lagos Island', 'Gwagwalada', 'Ijoko', 'Diplomatic Zones',\n",
       "       'Akure', 'Ethiope West', 'Badagry', 'Kano', 'Ede South',\n",
       "       'Ilorin South', 'Oke-Aro', 'Oke-Odo', 'Ikot Ekpene', 'Kusada',\n",
       "       'Akinyele', 'Kabusa', 'Dei-Dei', 'Eket', 'Egbe', 'Udu',\n",
       "       'Ibadan North-East', 'Danja', 'Yewa South', 'Warri', 'Duboyi',\n",
       "       'Jikwoyi', 'Oyo West', 'Agbara', 'Ovia North-East', 'Yenagoa',\n",
       "       'Central Business District', 'Guzamala', 'Lokoja', 'Jos North',\n",
       "       'Orile', 'Wumba', 'Ibadan North-West', 'Eko Atlantic City',\n",
       "       'Imota', 'Ikwerre', 'Keffi', 'Ilorin East', 'Uvwie', 'Umuahia',\n",
       "       'Ijesha', 'Okene', 'Aniocha South', 'Ijebu Ode', 'Okpe',\n",
       "       'Ughelli South', 'Ewekoro', 'Nassarawa', 'Mararaba', 'Uhunmwonde',\n",
       "       'Ughelli North', 'Ibeju', 'Abraka', 'Paikoro', 'Ikpoba Okha'],\n",
       "      dtype=object)"
      ]
     },
     "execution_count": 202,
     "metadata": {},
     "output_type": "execute_result"
    }
   ],
   "source": [
    "nigeria_df['town'].unique()"
   ]
  },
  {
   "cell_type": "code",
   "execution_count": 208,
   "metadata": {},
   "outputs": [],
   "source": [
    "# One-Hot Encoding for 'town' column\n",
    "df_processed = pd.get_dummies(nigeria_df, columns=['town'], drop_first=True)\n",
    "df_processed.head()\n",
    "\n",
    "\n",
    "# Filter out only the one-hot encoded town columns\n",
    "town_columns = [col for col in df_processed.columns if col.startswith(\"town_\")]\n",
    "\n",
    "# Write the encoded columns to a configuration file\n",
    "TOWN_CONFIG = os.getenv(\"TOWN_CONFIG\", default=\"config/town.json\")\n",
    "\n",
    "# Extract only the town column values for the JSON file\n",
    "town_values = {col.split(\"_\")[-1]: 1 for col in town_columns}  # 1 is a placeholder\n",
    "\n",
    "# Save the town values as JSON\n",
    "with open(TOWN_CONFIG, \"w\") as f:\n",
    "    json.dump(town_values, f)"
   ]
  },
  {
   "cell_type": "code",
   "execution_count": 207,
   "metadata": {},
   "outputs": [],
   "source": [
    "TRAINING_COLUMNS_CONFIG = os.getenv(\"TRAINING_COLUMNS_CONFIG\", default=\"config/training_columns.json\")\n",
    "\n",
    "# Write the 'training columns' configuration\n",
    "with open(TRAINING_COLUMNS_CONFIG, \"w\") as f:\n",
    "    # Include all relevant columns for training, except any unique identifiers or columns to be excluded\n",
    "    training_columns = {col: df_processed[col].dtype.name for col in df_processed.columns}\n",
    "    json.dump(training_columns, f)"
   ]
  },
  {
   "cell_type": "code",
   "execution_count": 206,
   "metadata": {},
   "outputs": [],
   "source": [
    "# Save the DataFrame to a CSV file\n",
    "df_processed.to_csv('dataset/df_processed.csv', index=False)"
   ]
  },
  {
   "cell_type": "code",
   "execution_count": null,
   "metadata": {},
   "outputs": [],
   "source": []
  },
  {
   "cell_type": "markdown",
   "metadata": {},
   "source": [
    "# Data Splitting"
   ]
  },
  {
   "cell_type": "code",
   "execution_count": 81,
   "metadata": {},
   "outputs": [],
   "source": [
    "# Define target and features\n",
    "y = df_processed['price']\n",
    "X = df_processed.drop('price', axis=1)\n",
    "\n",
    "# Split the data into 80% training and 20% testing, without stratification (as price is continuous)\n",
    "X_train, X_test, y_train, y_test = train_test_split(X, y, test_size=0.2, random_state=42)\n"
   ]
  },
  {
   "cell_type": "markdown",
   "metadata": {},
   "source": [
    "# Data Scaling"
   ]
  },
  {
   "cell_type": "code",
   "execution_count": 82,
   "metadata": {},
   "outputs": [],
   "source": [
    "# Initialize the scaler\n",
    "scaler = StandardScaler()\n",
    "\n",
    "# Fit the scaler on training data and transform the data\n",
    "X_train_scaled = scaler.fit_transform(X_train)\n",
    "\n",
    "# Transform the test data using the same scaler (no fitting on test data)\n",
    "X_test_scaled = scaler.transform(X_test)"
   ]
  },
  {
   "cell_type": "markdown",
   "metadata": {},
   "source": [
    "# Model Development and Training"
   ]
  },
  {
   "cell_type": "markdown",
   "metadata": {},
   "source": [
    "## Traditional Models\n",
    "- Linear Regression"
   ]
  },
  {
   "cell_type": "code",
   "execution_count": null,
   "metadata": {},
   "outputs": [],
   "source": [
    "# Initialize and train Linear Regression model\n",
    "linear_model = LinearRegression()\n",
    "linear_model.fit(X_train_scaled, y_train)\n",
    "\n",
    "# Predictions\n",
    "y_pred_linear = linear_model.predict(X_test_scaled)\n",
    "\n",
    "# Evaluate the model\n",
    "mae_linear = mean_absolute_error(y_test, y_pred_linear)\n",
    "mse_linear = mean_squared_error(y_test, y_pred_linear)\n",
    "rmse_linear = np.sqrt(mse_linear)\n",
    "r2_linear = r2_score(y_test, y_pred_linear)\n",
    "\n",
    "# Record performance metrics\n",
    "print(f\"Linear Regression - MAE: {mae_linear}, MSE: {mse_linear}, RMSE: {rmse_linear}, R-squared: {r2_linear}\")\n"
   ]
  },
  {
   "cell_type": "markdown",
   "metadata": {},
   "source": [
    "## Polynomial (Quadratic) Regression"
   ]
  },
  {
   "cell_type": "code",
   "execution_count": null,
   "metadata": {},
   "outputs": [],
   "source": [
    "from sklearn.decomposition import PCA\n",
    "\n",
    "# Generate polynomial features\n",
    "poly = PolynomialFeatures(degree=2)\n",
    "X_train_poly = poly.fit_transform(X_train_scaled)\n",
    "X_test_poly = poly.transform(X_test_scaled)\n",
    "\n",
    "# Apply PCA to reduce the dimensionality\n",
    "pca = PCA(n_components=100)  # Adjust n_components as needed\n",
    "X_train_poly_reduced = pca.fit_transform(X_train_poly)\n",
    "X_test_poly_reduced = pca.transform(X_test_poly)\n",
    "\n",
    "# Train the model on the reduced features\n",
    "poly_model = LinearRegression()\n",
    "poly_model.fit(X_train_poly_reduced, y_train)\n",
    "\n",
    "# Predictions and evaluation\n",
    "y_pred_poly = poly_model.predict(X_test_poly_reduced)\n",
    "\n",
    "# Evaluate the model\n",
    "mae_poly = mean_absolute_error(y_test, y_pred_poly)\n",
    "mse_poly = mean_squared_error(y_test, y_pred_poly)\n",
    "rmse_poly = np.sqrt(mse_poly)\n",
    "r2_poly = r2_score(y_test, y_pred_poly)\n",
    "\n",
    "# Record performance metrics\n",
    "print(f\"Polynomial Regression - MAE: {mae_poly}, MSE: {mse_poly}, RMSE: {rmse_poly}, R-squared: {r2_poly}\")\n"
   ]
  },
  {
   "cell_type": "markdown",
   "metadata": {},
   "source": [
    "## Logarithmic Regression"
   ]
  },
  {
   "cell_type": "code",
   "execution_count": null,
   "metadata": {},
   "outputs": [],
   "source": [
    "# Adding a small constant to avoid log of zero\n",
    "y_train_log = np.log(y_train + 1)\n",
    "y_test_log = np.log(y_test + 1)\n",
    "\n",
    "# Initialize and train Linear Regression model on the log-transformed target\n",
    "log_model = LinearRegression()\n",
    "log_model.fit(X_train, y_train_log)\n",
    "\n",
    "# Predictions on the test set\n",
    "y_pred_log = np.exp(log_model.predict(X_test_scaled)) - 1  # Inverse log transformation with adjustment\n",
    "\n",
    "# Evaluate the model\n",
    "mae_log = mean_absolute_error(y_test, y_pred_log)\n",
    "mse_log = mean_squared_error(y_test, y_pred_log)\n",
    "rmse_log = np.sqrt(mse_log)\n",
    "r2_log = r2_score(y_test, y_pred_log)\n",
    "\n",
    "# Record performance metrics\n",
    "print(f\"Logarithmic Regression - MAE: {mae_log}, MSE: {mse_log}, RMSE: {rmse_log}, R-squared: {r2_log}\")\n"
   ]
  },
  {
   "cell_type": "markdown",
   "metadata": {},
   "source": [
    "# Machine Learning Models\n",
    "- Random Forest Regressor"
   ]
  },
  {
   "cell_type": "code",
   "execution_count": null,
   "metadata": {},
   "outputs": [],
   "source": [
    "# Initialize Random Forest model\n",
    "rf_model = RandomForestRegressor(random_state=42)\n",
    "rf_model.fit(X_train_scaled, y_train)\n",
    "\n",
    "# Predictions\n",
    "y_pred_rf = rf_model.predict(X_test_scaled)\n",
    "\n",
    "# Evaluate the model\n",
    "mae_rf = mean_absolute_error(y_test, y_pred_rf)\n",
    "mse_rf = mean_squared_error(y_test, y_pred_rf)\n",
    "rmse_rf = np.sqrt(mse_rf)\n",
    "r2_rf = r2_score(y_test, y_pred_rf)\n",
    "\n",
    "# Record performance metrics\n",
    "print(f\"Random Forest - MAE: {mae_rf}, MSE: {mse_rf}, RMSE: {rmse_rf}, R-squared: {r2_rf}\")\n"
   ]
  },
  {
   "cell_type": "markdown",
   "metadata": {},
   "source": [
    "## Gradient Boosting Regressor"
   ]
  },
  {
   "cell_type": "code",
   "execution_count": null,
   "metadata": {},
   "outputs": [],
   "source": [
    "# Initialize Gradient Boosting model\n",
    "gb_model = GradientBoostingRegressor(random_state=42)\n",
    "gb_model.fit(X_train_scaled, y_train)\n",
    "\n",
    "# Predictions\n",
    "y_pred_gb = gb_model.predict(X_test_scaled)\n",
    "\n",
    "# Evaluate the model\n",
    "mae_gb = mean_absolute_error(y_test, y_pred_gb)\n",
    "mse_gb = mean_squared_error(y_test, y_pred_gb)\n",
    "rmse_gb = np.sqrt(mse_gb)\n",
    "r2_gb = r2_score(y_test, y_pred_gb)\n",
    "\n",
    "# Record performance metrics\n",
    "print(f\"Gradient Boosting - MAE: {mae_gb}, MSE: {mse_gb}, RMSE: {rmse_gb}, R-squared: {r2_gb}\")\n"
   ]
  },
  {
   "cell_type": "markdown",
   "metadata": {},
   "source": [
    "# Model Performance Comparison\n",
    "\n",
    "## Linear Regression\n",
    "- **MAE**: \\( 5.37 \\times 10^8 \\)\n",
    "- **MSE**: \\( 3.04 \\times 10^{20} \\)\n",
    "- **RMSE**: \\( 1.74 \\times 10^{10} \\)\n",
    "- **R-squared**: \\( -2.09 \\times 10^{20} \\) (very low, negative value indicates poor fit)\n",
    "\n",
    "## Polynomial Regression\n",
    "- **MAE**: 0.91\n",
    "- **MSE**: 1.42\n",
    "- **RMSE**: 1.19\n",
    "- **R-squared**: 0.022 (small positive value)\n",
    "\n",
    "## Logarithmic Regression\n",
    "- **MAE**: 9.73\n",
    "- **MSE**: 75535.60\n",
    "- **RMSE**: 274.84\n",
    "- **R-squared**: -52064.25 (extremely low, negative value indicating poor fit)\n",
    "\n",
    "## Random Forest Regressor\n",
    "- **MAE**: 0.048\n",
    "- **MSE**: 0.060\n",
    "- **RMSE**: 0.245\n",
    "- **R-squared**: 0.959 (high, indicating a strong fit)\n",
    "\n",
    "## Gradient Boosting Regressor\n",
    "- **MAE**: 0.23\n",
    "- **MSE**: 0.13\n",
    "- **RMSE**: 0.364\n",
    "- **R-squared**: 0.909 (high, indicating a good fit but slightly less than Random Forest)\n",
    "\n",
    "---\n",
    "\n",
    "# Analysis and Next Steps\n",
    "\n",
    "The **Random Forest Regressor** achieved the best performance, with the highest \\( R^2 \\) value of approximately 0.959 and the lowest error values (MAE, MSE, RMSE). This suggests it is the best-performing model for predicting housing prices in this case.\n"
   ]
  },
  {
   "cell_type": "markdown",
   "metadata": {},
   "source": [
    "# Hyperparameter Tuning (Random Forest)"
   ]
  },
  {
   "cell_type": "code",
   "execution_count": null,
   "metadata": {},
   "outputs": [],
   "source": [
    "# Set up parameter grid for Random Forest\n",
    "param_grid = {\n",
    "    'n_estimators': [100, 200],\n",
    "    'max_depth': [10, 20, None],\n",
    "    'min_samples_split': [2, 5, 10],\n",
    "}\n",
    "\n",
    "# Initialize RandomizedSearchCV for Random Forest\n",
    "rf_search = RandomizedSearchCV(RandomForestRegressor(random_state=42), param_grid, n_iter=5, cv=3, random_state=42)\n",
    "rf_search.fit(X_train_scaled, y_train)\n",
    "\n",
    "# Best parameters and model evaluation\n",
    "print(\"Best parameters for Random Forest: \", rf_search.best_params_)\n",
    "y_pred_rf_search = rf_search.best_estimator_.predict(X_test_scaled)\n",
    "\n",
    "# Evaluate the tuned model\n",
    "mae_rf_search = mean_absolute_error(y_test, y_pred_rf_search)\n",
    "mse_rf_search = mean_squared_error(y_test, y_pred_rf_search)\n",
    "rmse_rf_search = np.sqrt(mse_rf_search)\n",
    "r2_rf_search = r2_score(y_test, y_pred_rf_search)\n",
    "\n",
    "# Record performance metrics\n",
    "print(f\"Tuned Random Forest - MAE: {mae_rf_search}, MSE: {mse_rf_search}, RMSE: {rmse_rf_search}, R-squared: {r2_rf_search}\")\n"
   ]
  },
  {
   "cell_type": "code",
   "execution_count": null,
   "metadata": {},
   "outputs": [],
   "source": [
    "results = pd.DataFrame({\n",
    "    'Model': ['Random Forest (Tuned)'],\n",
    "    'MAE': [mae_rf_search],\n",
    "    'MSE': [mse_rf_search],\n",
    "    'RMSE': [rmse_rf_search],\n",
    "    'R-Squared': [r2_rf_search]\n",
    "})\n",
    "print(results)\n"
   ]
  },
  {
   "cell_type": "markdown",
   "metadata": {},
   "source": [
    "# Saving the best Model"
   ]
  },
  {
   "cell_type": "code",
   "execution_count": null,
   "metadata": {},
   "outputs": [],
   "source": [
    "best_rf_model = rf_search.best_estimator_\n",
    "joblib.dump(best_rf_model, './model/best_rf_model.pkl')\n"
   ]
  },
  {
   "cell_type": "markdown",
   "metadata": {},
   "source": [
    "# Model Interpretation and Feature Importance"
   ]
  },
  {
   "cell_type": "code",
   "execution_count": null,
   "metadata": {},
   "outputs": [],
   "source": [
    "# Feature importance\n",
    "feature_importances = best_rf_model.feature_importances_\n",
    "\n",
    "# Sort feature importances in descending order\n",
    "sorted_indices = feature_importances.argsort()[::-1]\n",
    "\n",
    "# Set the number of top features you want to display\n",
    "top_n = 20\n",
    "top_indices = sorted_indices[:top_n]\n",
    "top_feature_importances = feature_importances[top_indices]\n",
    "top_feature_names = [X_train.columns[i] for i in top_indices]\n",
    "\n",
    "# Print the top feature rankings\n",
    "print(f\"Top {top_n} Feature Rankings:\")\n",
    "for i in range(top_n):\n",
    "    print(f\"{i + 1}. Feature: {top_feature_names[i]} (Importance: {top_feature_importances[i]:.4f})\")\n"
   ]
  },
  {
   "cell_type": "code",
   "execution_count": null,
   "metadata": {},
   "outputs": [],
   "source": [
    "# The 'best_rf_model' is the best Random Forest model obtained from GridSearchCV or RandomizedSearchCV\n",
    "# and 'X_train' is my training DataFrame with feature names.\n",
    "\n",
    "# Get feature importances from the model\n",
    "feature_importances = best_rf_model.feature_importances_\n",
    "features = X_train.columns  # Ensure X_train is a DataFrame so columns are available\n",
    "\n",
    "# Create a DataFrame to hold features and their importance scores\n",
    "importance_df = pd.DataFrame({'Feature': features, 'Importance': feature_importances})\n",
    "\n",
    "# Sort by importance in descending order and select the top 20 features\n",
    "top_20_features = importance_df.sort_values(by='Importance', ascending=False).head(20)\n",
    "\n",
    "# Plot the top 30 features\n",
    "plt.figure(figsize=(8, 6))\n",
    "plt.barh(top_20_features['Feature'], top_20_features['Importance'], color='skyblue')\n",
    "plt.xlabel('Feature Importance')\n",
    "plt.title('Top 20 Features for Random Forest Model')\n",
    "plt.gca().invert_yaxis()  # Keep the highest importance feature at the top\n",
    "plt.show()\n"
   ]
  },
  {
   "cell_type": "markdown",
   "metadata": {},
   "source": [
    "## Testing model"
   ]
  },
  {
   "cell_type": "code",
   "execution_count": null,
   "metadata": {},
   "outputs": [],
   "source": [
    "# Load the best model if not already loaded\n",
    "best_rf_model = joblib.load('./model/best_rf_model.pkl')\n",
    "\n",
    "# Predict on the test set\n",
    "y_pred_test = best_rf_model.predict(X_test_scaled)\n",
    "\n",
    "# Calculate performance metrics\n",
    "mae_test = mean_absolute_error(y_test, y_pred_test)\n",
    "mse_test = mean_squared_error(y_test, y_pred_test)\n",
    "rmse_test = np.sqrt(mse_test)\n",
    "r2_test = r2_score(y_test, y_pred_test)\n",
    "\n",
    "print(f\"Test Set Evaluation - MAE: {mae_test}, MSE: {mse_test}, RMSE: {rmse_test}, R-squared: {r2_test}\")\n",
    "\n",
    "# Plot actual vs predicted values\n",
    "plt.figure(figsize=(8, 6))\n",
    "plt.scatter(y_test, y_pred_test, alpha=0.6)\n",
    "plt.plot([y_test.min(), y_test.max()], [y_test.min(), y_test.max()], 'r--', lw=2)\n",
    "plt.xlabel('Actual Prices')\n",
    "plt.ylabel('Predicted Prices')\n",
    "plt.title('Actual vs Predicted Prices (Test Set)')\n",
    "plt.show()"
   ]
  },
  {
   "cell_type": "code",
   "execution_count": null,
   "metadata": {},
   "outputs": [],
   "source": [
    "# Calculate residuals (errors)\n",
    "residuals = y_test - y_pred_test\n",
    "\n",
    "# Plot residuals\n",
    "plt.figure(figsize=(8, 6))\n",
    "plt.scatter(y_pred_test, residuals, alpha=0.6)\n",
    "plt.axhline(y=0, color='r', linestyle='--')\n",
    "plt.xlabel('Predicted Prices')\n",
    "plt.ylabel('Residuals')\n",
    "plt.title('Residuals vs Predicted Prices')\n",
    "plt.show()\n",
    "\n",
    "# Check for patterns in residuals\n",
    "residuals_df = pd.DataFrame({'Actual': y_test, 'Predicted': y_pred_test, 'Residuals': residuals})\n",
    "# Explore residuals for different property types or regions\n"
   ]
  },
  {
   "cell_type": "markdown",
   "metadata": {},
   "source": [
    "# Model Interpretation: Random Forest Regressor for Predicting Housing Prices in Nigeria\n",
    "\n",
    "### 1. **Model Overview**\n",
    "The model developed for predicting housing prices in Nigeria utilizes a Random Forest Regressor. A Random Forest model is an ensemble learning technique, which aggregates the predictions of multiple decision trees to improve predictive accuracy and control overfitting. The model was trained using various features, including property characteristics and location data, and was evaluated using performance metrics such as Mean Absolute Error (MAE), Mean Squared Error (MSE), Root Mean Squared Error (RMSE), and R-squared.\n",
    "\n",
    "---\n",
    "\n",
    "### 2. **Performance Metrics**\n",
    "The performance metrics for the Random Forest Regressor are as follows:\n",
    "\n",
    "- **Mean Absolute Error (MAE)**: 0.0520\n",
    "- **Mean Squared Error (MSE)**: 0.0653\n",
    "- **Root Mean Squared Error (RMSE)**: 0.2555\n",
    "- **R-squared (R²)**: 0.9550\n",
    "\n",
    "These metrics suggest that the Random Forest model provides a high degree of accuracy in predicting housing prices. The R-squared value of **0.9550** indicates that approximately **95.5%** of the variance in housing prices is explained by the features in the model, suggesting strong predictive power. Additionally, the low MAE and RMSE values imply that the model's predictions are very close to the actual prices.\n",
    "\n",
    "---\n",
    "\n",
    "### 3. **Top 20 Features by Importance**\n",
    "Feature importance scores provide insights into which variables have the greatest influence on the target variable (housing price). The higher the importance score, the more significant the feature is in predicting the target.\n",
    "\n",
    "#### Top 20 Features\n",
    "1. **price_per_bedroom** (Importance: 0.3679)\n",
    "2. **property_type** (Importance: 0.2666)\n",
    "3. **bedrooms** (Importance: 0.1520)\n",
    "4. **town_Ikoyi** (Importance: 0.1372)\n",
    "5. **state_encoded** (Importance: 0.0217)\n",
    "6. **town_Maitama District** (Importance: 0.0146)\n",
    "7. **toilets** (Importance: 0.0092)\n",
    "8. **town_Victoria Island (VI)** (Importance: 0.0068)\n",
    "9. **bathrooms** (Importance: 0.0039)\n",
    "10. **town_Ikorodu** (Importance: 0.0026)\n",
    "11. **town_Asokoro District** (Importance: 0.0022)\n",
    "12. **parking_space** (Importance: 0.0020)\n",
    "13. **town_Eko Atlantic City** (Importance: 0.0018)\n",
    "14. **town_Ikeja** (Importance: 0.0010)\n",
    "15. **town_Jabi** (Importance: 0.0008)\n",
    "16. **town_Ajah** (Importance: 0.0007)\n",
    "17. **town_Surulere** (Importance: 0.0006)\n",
    "18. **town_Lekki** (Importance: 0.0006)\n",
    "19. **town_Life Camp** (Importance: 0.0006)\n",
    "20. **town_Katampe** (Importance: 0.0006)\n",
    "\n",
    "From the feature importance scores, the top three most important features are:\n",
    "\n",
    "- **price_per_bedroom**: This feature seems to have the highest importance, contributing **36.79%** to the model’s predictive capability. This suggests that the price per bedroom is a major determinant in predicting the overall price of a property.\n",
    "  \n",
    "- **property_type**: The type of property (e.g., apartment, house) is the second most important feature, with an importance score of **26.66%**. This indicates that the model heavily relies on property type when determining the housing price.\n",
    "\n",
    "- **bedrooms**: The number of bedrooms in a property also plays a significant role in predicting price, with an importance score of **15.20%**. Larger properties with more bedrooms are likely to have higher prices.\n",
    "\n",
    "Other notable features include various **towns** (e.g., Ikoyi, Maitama, Victoria Island), which suggest that **location** is also a critical factor in determining the price of a property.\n",
    "\n",
    "---\n",
    "\n",
    "### 4. **Feature Importance Visualization**\n",
    "A horizontal bar plot of the top 20 features illustrates the importance of each feature visually. The plot clearly shows the relative importance of the features, with **price_per_bedroom** at the top, followed by **property_type** and **bedrooms**.\n",
    "\n",
    "---\n",
    "\n",
    "### 5. **Model Insights & Conclusion**\n",
    "\n",
    "- **Strong Predictive Power**: The Random Forest model provides a very good fit to the data with an R² of **95.5%**, indicating that the model can explain most of the variance in housing prices.\n",
    "\n",
    "- **Key Predictive Features**: From the feature importance analysis, **price_per_bedroom**, **property_type**, and **bedrooms** emerge as the most important features in predicting housing prices. The location features such as **town_Ikoyi** and **town_Maitama District** also contribute to the model’s performance.\n",
    "\n",
    "- **Model Tuning**: Hyperparameter tuning, performed using **RandomizedSearchCV**, helped optimize the model's performance by identifying the best parameters for Random Forest, such as **n_estimators = 100**, **max_depth = 20**, and **min_samples_split = 5**.\n",
    "\n",
    "---\n",
    "\n",
    "### 6. **Next Steps in the Future**\n",
    "To further improve the model in the future:\n",
    "\n",
    "- **Experiment with Other Models**: Try additional machine learning models such as **XGBoost** to compare performance.\n",
    "  \n",
    "- **Feature Engineering**: Consider generating new features or interacting between features (e.g., combining **bedrooms** and **price_per_bedroom**).\n",
    "\n",
    "---\n",
    "\n",
    "### 7. **Final Thoughts**\n",
    "This model provides a robust foundation for predicting housing prices in Nigeria, with clear insights into which features influence the predictions the most. By leveraging this model, stakeholders can gain better insights into the housing market, especially with regards to the impact of property features and location on price."
   ]
  },
  {
   "cell_type": "markdown",
   "metadata": {},
   "source": [
    "# "
   ]
  }
 ],
 "metadata": {
  "kernelspec": {
   "display_name": "Python 3 (ipykernel)",
   "language": "python",
   "name": "python3"
  },
  "language_info": {
   "codemirror_mode": {
    "name": "ipython",
    "version": 3
   },
   "file_extension": ".py",
   "mimetype": "text/x-python",
   "name": "python",
   "nbconvert_exporter": "python",
   "pygments_lexer": "ipython3",
   "version": "3.10.9"
  }
 },
 "nbformat": 4,
 "nbformat_minor": 2
}
